{
 "cells": [
  {
   "cell_type": "code",
   "execution_count": 62,
   "metadata": {},
   "outputs": [],
   "source": [
    "import pennylane as qml\n",
    "import numpy as np\n",
    "import warnings as warn\n",
    "backend = qml.device('default.qubit', wires=6)\n",
    "tol = 1E-6"
   ]
  },
  {
   "cell_type": "code",
   "execution_count": 63,
   "metadata": {},
   "outputs": [],
   "source": [
    "# Prepares a|110000> + b|001100> with a^2 + b^2 = 1, a,b real valued\n",
    "def StatePrep(a,b,c,d=1):\n",
    "    if np.abs(np.square(a) + np.square(b) + np.square(c) + np.square (d)- 1) > tol:\n",
    "        if d == 1:\n",
    "            pass\n",
    "        else:\n",
    "            warn.warn('Overdetermined parameters a and b: a^2 + b^2 + c^2 + d^2 != 1. Continuing with d = sqrt(1 - a^2 - b^2 - c^2)')\n",
    "        d = np.sqrt(1 - np.square(a) - np.square(b) - np.square(c))\n",
    "    \n",
    "    qml.BasisState(np.array([0,0,1,1,0,0]), wires=[0,1,2,3,4,5])\n",
    "    qml.DoubleExcitation(-1*np.arcsin(a)*2, wires=[2, 3, 0, 1])\n",
    "    aBar = np.sqrt(1 - np.square(a))\n",
    "    qml.DoubleExcitation(-1*np.arcsin(c/aBar)*2, wires=[2, 3, 4, 5])\n",
    "    acBar = np.sqrt(1- np.square(a) - np.square(c))\n",
    "    qml.ctrl(qml.SingleExcitation, control=3) (-1*np.arcsin(d/acBar)*2, wires=[2, 0])\n",
    "\n",
    "\n",
    "    return qml.state()\n",
    "\n",
    "\n",
    "def GenTestVals():\n",
    "    v = np.random.uniform(size=4)\n",
    "    v = v / np.linalg.norm(v)\n",
    "    print(v)\n",
    "    return v[0],v[1],v[2],v[3]\n"
   ]
  },
  {
   "cell_type": "code",
   "execution_count": 70,
   "metadata": {},
   "outputs": [
    {
     "name": "stdout",
     "output_type": "stream",
     "text": [
      "[0.25254433 0.67117984 0.54174628 0.43846317]\n",
      "[(tensor(0.54174628+0.j, requires_grad=True), '000011'), (tensor(0.67117984+0.j, requires_grad=True), '001100'), (tensor(0.43846317+0.j, requires_grad=True), '100100'), (tensor(0.25254433+0.j, requires_grad=True), '110000')]\n"
     ]
    }
   ],
   "source": [
    "circuit = qml.QNode(StatePrep, backend)\n",
    "a,b,c,d = GenTestVals()\n",
    "output = circuit(a,b,c,d=d)\n",
    "states = [(output[i], np.binary_repr(i, width=6))\n",
    "          for i in range(len(output)) if output[i] != 0]\n",
    "print(states)\n"
   ]
  },
  {
   "cell_type": "code",
   "execution_count": 69,
   "metadata": {},
   "outputs": [
    {
     "name": "stdout",
     "output_type": "stream",
     "text": [
      "[0.11500876 0.6038128  0.53030199 0.58392028]\n",
      "[0.81480438 0.51710464 0.25974205 0.03508103]\n",
      "[0.75217145 0.60071745 0.14228234 0.23050464]\n",
      "[0.34473451 0.1946629  0.91829295 0.00158956]\n",
      "[0.03111296 0.75964343 0.22528281 0.6092795 ]\n",
      "[0.66721582 0.31585303 0.15638463 0.65620405]\n",
      "[0.41650338 0.82839    0.11884604 0.35520496]\n",
      "[0.23562847 0.41073251 0.6467498  0.59790695]\n",
      "[0.36167711 0.65851655 0.5584849  0.35162515]\n",
      "[0.18806872 0.69584555 0.18764042 0.66724823]\n"
     ]
    }
   ],
   "source": [
    "def testValidInput():\n",
    "    a,b,c,d = GenTestVals()\n",
    "    resultDict = {'110000':a, '001100':b, '000011': c, '100100':d}\n",
    "    output = circuit(a, b, c, d=d)\n",
    "    states = [(output[i], np.binary_repr(i, width=6))\n",
    "              for i in range(len(output)) if output[i] != 0]\n",
    "    for state in states:\n",
    "        assert resultDict[state[1]] - state[0] < tol\n",
    "\n",
    "#def test_InvalidD():\n",
    "\n",
    "for i in range(10):\n",
    "    testValidInput()\n"
   ]
  },
  {
   "cell_type": "code",
   "execution_count": null,
   "metadata": {},
   "outputs": [],
   "source": []
  }
 ],
 "metadata": {
  "interpreter": {
   "hash": "916dbcbb3f70747c44a77c7bcd40155683ae19c65e1c03b4aa3499c5328201f1"
  },
  "kernelspec": {
   "display_name": "Python 3.8.10 64-bit",
   "language": "python",
   "name": "python3"
  },
  "language_info": {
   "codemirror_mode": {
    "name": "ipython",
    "version": 3
   },
   "file_extension": ".py",
   "mimetype": "text/x-python",
   "name": "python",
   "nbconvert_exporter": "python",
   "pygments_lexer": "ipython3",
   "version": "3.8.10"
  },
  "orig_nbformat": 4
 },
 "nbformat": 4,
 "nbformat_minor": 2
}
