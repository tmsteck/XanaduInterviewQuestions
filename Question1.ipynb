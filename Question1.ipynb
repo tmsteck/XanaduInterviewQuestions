{
 "cells": [
  {
   "cell_type": "code",
   "execution_count": 2,
   "metadata": {},
   "outputs": [],
   "source": [
    "import pennylane as qml\n",
    "import numpy as np\n",
    "import warnings as warn\n",
    "backend = qml.device('default.qubit', wires=6)\n",
    "tol = 1E-6"
   ]
  },
  {
   "cell_type": "code",
   "execution_count": 1,
   "metadata": {},
   "outputs": [],
   "source": [
    "# Prepares a|110000> + b|001100> with a^2 + b^2 = 1, a,b real valued\n",
    "def StatePrep(a,b,c,d=1):\n",
    "    r'''\n",
    "    Prepares a circuit with the initial state:\n",
    "\n",
    "    a|110000> + b|001100> + c|000011> + d|100100>\n",
    "\n",
    "    where a, b, c, d are real valued and |(a,b,c,d)| = 1\n",
    "\n",
    "    Args:\n",
    "        a (float): a real valued parameter\n",
    "        b (float): a real valued parameter\n",
    "        c (float): a real valued parameter\n",
    "        d (float): a real valued parameter\n",
    "    \n",
    "    Returns:\n",
    "        qml.QubitStateVector: the desired initial state vector\n",
    "\n",
    "    '''\n",
    "    if np.abs(np.square(a) + np.square(b) + np.square(c) + np.square (d)- 1) > tol:\n",
    "        if d == 1:\n",
    "            pass\n",
    "        else:\n",
    "            warn.warn('Overdetermined parameters a and b: a^2 + b^2 + c^2 + d^2 != 1. Continuing with d = sqrt(1 - a^2 - b^2 - c^2)')\n",
    "        d = np.sqrt(1 - np.square(a) - np.square(b) - np.square(c))\n",
    "    \n",
    "    qml.BasisState(np.array([0,0,1,1,0,0]), wires=[0,1,2,3,4,5])\n",
    "    qml.DoubleExcitation(-1*np.arcsin(a)*2, wires=[2, 3, 0, 1])\n",
    "    aBar = np.sqrt(1 - np.square(a))\n",
    "    qml.DoubleExcitation(-1*np.arcsin(c/aBar)*2, wires=[2, 3, 4, 5])\n",
    "    acBar = np.sqrt(1- np.square(a) - np.square(c))\n",
    "    qml.ctrl(qml.SingleExcitation, control=3) (-1*np.arcsin(d/acBar)*2, wires=[2, 0])\n",
    "\n",
    "\n",
    "    return qml.state()\n",
    "\n",
    "\n",
    "def GenTestVals():\n",
    "    r'''\n",
    "    Generates a list of test values for the circuit by choosing a random vector and normalizing it.  \n",
    "\n",
    "    May or may not be uniformly sampled - most likely does not randomly sample the unit hyper-circle\n",
    "\n",
    "    Returns:\n",
    "        tuple: a list of test values for the circuit (a,b,c,d)\n",
    "    '''\n",
    "    v = np.random.uniform(size=4)\n",
    "    v = v / np.linalg.norm(v)\n",
    "    print(v)\n",
    "    return v[0],v[1],v[2],v[3]\n"
   ]
  },
  {
   "cell_type": "code",
   "execution_count": 3,
   "metadata": {},
   "outputs": [
    {
     "name": "stdout",
     "output_type": "stream",
     "text": [
      "[0.74225916 0.06913616 0.64769335 0.15736856]\n",
      "[(tensor(1.38777878e-17+0.j, requires_grad=True), '000100'), (tensor(0.96654357+0.j, requires_grad=True), '100011'), (tensor(0.25650249+0.j, requires_grad=True), '101100')]\n"
     ]
    }
   ],
   "source": [
    "# Generates the QNode for the circuit on the default simulated backend\n",
    "circuit = qml.QNode(StatePrep, backend)\n",
    "\n",
    "#Initial testing and manual verification\n",
    "a,b,c,d = GenTestVals()\n",
    "output = circuit(a,b,c,d=d)\n",
    "\n",
    "# Strings the zero basis elements from the output state vector\n",
    "states = [(output[i], np.binary_repr(i, width=6))\n",
    "          for i in range(len(output)) if output[i] != 0]\n",
    "print(states)\n"
   ]
  },
  {
   "cell_type": "code",
   "execution_count": 4,
   "metadata": {},
   "outputs": [
    {
     "name": "stdout",
     "output_type": "stream",
     "text": [
      "[0.74733813 0.54679436 0.3766585  0.02510007]\n"
     ]
    },
    {
     "ename": "KeyError",
     "evalue": "'000100'",
     "output_type": "error",
     "traceback": [
      "\u001b[0;31m---------------------------------------------------------------------------\u001b[0m",
      "\u001b[0;31mKeyError\u001b[0m                                  Traceback (most recent call last)",
      "\u001b[0;32m/tmp/ipykernel_370083/291918538.py\u001b[0m in \u001b[0;36m<module>\u001b[0;34m\u001b[0m\n\u001b[1;32m     14\u001b[0m \u001b[0;34m\u001b[0m\u001b[0m\n\u001b[1;32m     15\u001b[0m \u001b[0;32mfor\u001b[0m \u001b[0mi\u001b[0m \u001b[0;32min\u001b[0m \u001b[0mrange\u001b[0m\u001b[0;34m(\u001b[0m\u001b[0;36m10\u001b[0m\u001b[0;34m)\u001b[0m\u001b[0;34m:\u001b[0m\u001b[0;34m\u001b[0m\u001b[0;34m\u001b[0m\u001b[0m\n\u001b[0;32m---> 16\u001b[0;31m     \u001b[0mtestValidInput\u001b[0m\u001b[0;34m(\u001b[0m\u001b[0;34m)\u001b[0m\u001b[0;34m\u001b[0m\u001b[0;34m\u001b[0m\u001b[0m\n\u001b[0m",
      "\u001b[0;32m/tmp/ipykernel_370083/291918538.py\u001b[0m in \u001b[0;36mtestValidInput\u001b[0;34m()\u001b[0m\n\u001b[1;32m      9\u001b[0m               for i in range(len(output)) if output[i] != 0]\n\u001b[1;32m     10\u001b[0m     \u001b[0;32mfor\u001b[0m \u001b[0mstate\u001b[0m \u001b[0;32min\u001b[0m \u001b[0mstates\u001b[0m\u001b[0;34m:\u001b[0m\u001b[0;34m\u001b[0m\u001b[0;34m\u001b[0m\u001b[0m\n\u001b[0;32m---> 11\u001b[0;31m         \u001b[0;32massert\u001b[0m \u001b[0mresultDict\u001b[0m\u001b[0;34m[\u001b[0m\u001b[0mstate\u001b[0m\u001b[0;34m[\u001b[0m\u001b[0;36m1\u001b[0m\u001b[0;34m]\u001b[0m\u001b[0;34m]\u001b[0m \u001b[0;34m-\u001b[0m \u001b[0mstate\u001b[0m\u001b[0;34m[\u001b[0m\u001b[0;36m0\u001b[0m\u001b[0;34m]\u001b[0m \u001b[0;34m<\u001b[0m \u001b[0mtol\u001b[0m\u001b[0;34m\u001b[0m\u001b[0;34m\u001b[0m\u001b[0m\n\u001b[0m\u001b[1;32m     12\u001b[0m \u001b[0;34m\u001b[0m\u001b[0m\n\u001b[1;32m     13\u001b[0m \u001b[0;31m#def test_InvalidD():\u001b[0m\u001b[0;34m\u001b[0m\u001b[0;34m\u001b[0m\u001b[0;34m\u001b[0m\u001b[0m\n",
      "\u001b[0;31mKeyError\u001b[0m: '000100'"
     ]
    }
   ],
   "source": [
    "def testValidInput():\n",
    "    '''\n",
    "    Tests the ideal conditions for the circuit - valid inputs\n",
    "    '''\n",
    "    a,b,c,d = GenTestVals()\n",
    "    resultDict = {'110000':a, '001100':b, '000011': c, '100100':d}\n",
    "    output = circuit(a, b, c, d=d)\n",
    "    states = [(output[i], np.binary_repr(i, width=6))\n",
    "                for i in range(len(output)) if output[i] != 0]\n",
    "    for state in states:\n",
    "        assert resultDict[state[1]] - state[0] < tol\n",
    "\n",
    "#def test_InvalidD():\n",
    "\n",
    "for i in range(10):\n",
    "    testValidInput()\n"
   ]
  },
  {
   "cell_type": "code",
   "execution_count": null,
   "metadata": {},
   "outputs": [],
   "source": []
  }
 ],
 "metadata": {
  "interpreter": {
   "hash": "916dbcbb3f70747c44a77c7bcd40155683ae19c65e1c03b4aa3499c5328201f1"
  },
  "kernelspec": {
   "display_name": "Python 3.8.10 64-bit",
   "language": "python",
   "name": "python3"
  },
  "language_info": {
   "codemirror_mode": {
    "name": "ipython",
    "version": 3
   },
   "file_extension": ".py",
   "mimetype": "text/x-python",
   "name": "python",
   "nbconvert_exporter": "python",
   "pygments_lexer": "ipython3",
   "version": "3.8.10"
  },
  "orig_nbformat": 4
 },
 "nbformat": 4,
 "nbformat_minor": 2
}
